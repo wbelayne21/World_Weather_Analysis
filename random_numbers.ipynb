{
 "cells": [
  {
   "cell_type": "code",
   "execution_count": 1,
   "id": "8d576755",
   "metadata": {},
   "outputs": [],
   "source": [
    "import random"
   ]
  },
  {
   "cell_type": "code",
   "execution_count": 22,
   "id": "a00127a1",
   "metadata": {},
   "outputs": [
    {
     "data": {
      "text/plain": [
       "0.5082390125193722"
      ]
     },
     "execution_count": 22,
     "metadata": {},
     "output_type": "execute_result"
    }
   ],
   "source": [
    "random.random()"
   ]
  },
  {
   "cell_type": "code",
   "execution_count": 7,
   "id": "9a5c80d9",
   "metadata": {},
   "outputs": [
    {
     "data": {
      "text/plain": [
       "40"
      ]
     },
     "execution_count": 7,
     "metadata": {},
     "output_type": "execute_result"
    }
   ],
   "source": [
    "random.randint(9, 56)"
   ]
  },
  {
   "cell_type": "code",
   "execution_count": 11,
   "id": "ba1fc573",
   "metadata": {},
   "outputs": [
    {
     "data": {
      "text/plain": [
       "12"
      ]
     },
     "execution_count": 11,
     "metadata": {},
     "output_type": "execute_result"
    }
   ],
   "source": [
    "random.randrange(3, 30, 3)"
   ]
  },
  {
   "cell_type": "code",
   "execution_count": 13,
   "id": "a05c448f",
   "metadata": {},
   "outputs": [
    {
     "ename": "NameError",
     "evalue": "name 'uniform' is not defined",
     "output_type": "error",
     "traceback": [
      "\u001b[1;31m---------------------------------------------------------------------------\u001b[0m",
      "\u001b[1;31mNameError\u001b[0m                                 Traceback (most recent call last)",
      "\u001b[1;32m<ipython-input-13-cb54dda9798c>\u001b[0m in \u001b[0;36m<module>\u001b[1;34m\u001b[0m\n\u001b[1;32m----> 1\u001b[1;33m \u001b[0muniform\u001b[0m\u001b[1;33m(\u001b[0m\u001b[1;36m9\u001b[0m\u001b[1;33m,\u001b[0m \u001b[1;36m90\u001b[0m\u001b[1;33m)\u001b[0m\u001b[1;33m\u001b[0m\u001b[1;33m\u001b[0m\u001b[0m\n\u001b[0m",
      "\u001b[1;31mNameError\u001b[0m: name 'uniform' is not defined"
     ]
    }
   ],
   "source": [
    "uniform(9, 90)"
   ]
  },
  {
   "cell_type": "code",
   "execution_count": 17,
   "id": "e5eab27f",
   "metadata": {},
   "outputs": [
    {
     "data": {
      "text/plain": [
       "-60.518106033655386"
      ]
     },
     "execution_count": 17,
     "metadata": {},
     "output_type": "execute_result"
    }
   ],
   "source": [
    "random_number = random.randint(-90, 89) + random.random()\n",
    "random_number"
   ]
  },
  {
   "cell_type": "code",
   "execution_count": 19,
   "id": "324f9684",
   "metadata": {},
   "outputs": [
    {
     "data": {
      "text/plain": [
       "[30.270610417784706,\n",
       " 33.543854210597424,\n",
       " -67.10924574970133,\n",
       " -50.939085123532514,\n",
       " -37.462545348167815,\n",
       " 88.71916865587633,\n",
       " 66.96493270706272,\n",
       " 58.867875975133146,\n",
       " -4.263170016968814,\n",
       " -36.12791999367196]"
      ]
     },
     "execution_count": 19,
     "metadata": {},
     "output_type": "execute_result"
    }
   ],
   "source": [
    "x = 1\n",
    "latitudes = []\n",
    "while x < 11:\n",
    "    random_latitude = random.randint(-90, 89) + random.random()\n",
    "    latitudes.append(random_latitude)\n",
    "    x +=1\n",
    "latitudes"
   ]
  },
  {
   "cell_type": "code",
   "execution_count": 21,
   "id": "eed9fb55",
   "metadata": {},
   "outputs": [
    {
     "data": {
      "text/plain": [
       "-26.2344375795889"
      ]
     },
     "execution_count": 21,
     "metadata": {},
     "output_type": "execute_result"
    }
   ],
   "source": [
    "random.uniform(-90, 89)"
   ]
  },
  {
   "cell_type": "code",
   "execution_count": 23,
   "id": "0b8def4a",
   "metadata": {},
   "outputs": [],
   "source": [
    "import numpy as np"
   ]
  },
  {
   "cell_type": "code",
   "execution_count": 27,
   "id": "352d1855",
   "metadata": {},
   "outputs": [
    {
     "data": {
      "text/plain": [
       "[25.667229479125268,\n",
       " -57.68389760166295,\n",
       " -33.41801866718629,\n",
       " 72.97414234308755,\n",
       " -55.813511095491386,\n",
       " -5.529107134214783,\n",
       " -30.452585753860248,\n",
       " 83.6767708411538,\n",
       " 6.934851301746505,\n",
       " -8.572894362346744,\n",
       " 87.50352519535892,\n",
       " 59.157999332879484,\n",
       " 25.79982490638433,\n",
       " -10.387429184765097,\n",
       " -9.612563419993634,\n",
       " -75.95552318844115,\n",
       " 37.018091053657656,\n",
       " -40.79322111771516,\n",
       " 78.68251024429807,\n",
       " 14.944185378427662]"
      ]
     },
     "execution_count": 27,
     "metadata": {},
     "output_type": "execute_result"
    }
   ],
   "source": [
    "x = 1\n",
    "latitudes = []\n",
    "while x < 21:\n",
    "    rand_lat = np.random.uniform(-90.000, 89.000)\n",
    "    latitudes.append(rand_lat)\n",
    "    x +=1\n",
    "latitudes"
   ]
  },
  {
   "cell_type": "code",
   "execution_count": 30,
   "id": "346ad610",
   "metadata": {},
   "outputs": [
    {
     "name": "stdout",
     "output_type": "stream",
     "text": [
      "33.6 µs ± 593 ns per loop (mean ± std. dev. of 7 runs, 10000 loops each)\n"
     ]
    }
   ],
   "source": [
    "# or \n",
    "%timeit np.random.uniform(-90.000, 89.000, size = 1500)\n"
   ]
  },
  {
   "cell_type": "code",
   "execution_count": 29,
   "id": "9532dced",
   "metadata": {},
   "outputs": [],
   "source": [
    "import timeit"
   ]
  },
  {
   "cell_type": "code",
   "execution_count": 31,
   "id": "54351bba",
   "metadata": {},
   "outputs": [
    {
     "name": "stdout",
     "output_type": "stream",
     "text": [
      "3.3 ms ± 17.4 µs per loop (mean ± std. dev. of 7 runs, 100 loops each)\n"
     ]
    }
   ],
   "source": [
    "# time the while loop\n",
    "def latitudes(size):\n",
    "    latitudes = []\n",
    "    x = 0\n",
    "    while x < (size):\n",
    "        random_lat = random.randint(-90, 90) + random.random()\n",
    "        latitudes.append(random_lat)\n",
    "        x += 1\n",
    "    return latitudes\n",
    "# Call the function with 1500.\n",
    "%timeit latitudes(1500)"
   ]
  },
  {
   "cell_type": "code",
   "execution_count": null,
   "id": "7e72ebdb",
   "metadata": {},
   "outputs": [],
   "source": []
  }
 ],
 "metadata": {
  "kernelspec": {
   "display_name": "PythonData",
   "language": "python",
   "name": "pythondata"
  },
  "language_info": {
   "codemirror_mode": {
    "name": "ipython",
    "version": 3
   },
   "file_extension": ".py",
   "mimetype": "text/x-python",
   "name": "python",
   "nbconvert_exporter": "python",
   "pygments_lexer": "ipython3",
   "version": "3.8.8"
  }
 },
 "nbformat": 4,
 "nbformat_minor": 5
}
