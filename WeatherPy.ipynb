{
 "cells": [
  {
   "cell_type": "code",
   "execution_count": 4,
   "id": "2c5ab9c1",
   "metadata": {},
   "outputs": [],
   "source": [
    "# Dependancies \n",
    "import pandas as pd\n",
    "import matplotlib.pyplot as plt\n",
    "import numpy as np\n",
    "from citipy import citipy"
   ]
  },
  {
   "cell_type": "code",
   "execution_count": 5,
   "id": "30ae862b",
   "metadata": {},
   "outputs": [],
   "source": [
    "lats = np.random.uniform(high = -90.000, low = 90.000, size = 1500)\n",
    "lngt = np.random.uniform(high = -180.000, low = 180.000, size = 1500)"
   ]
  },
  {
   "cell_type": "code",
   "execution_count": 6,
   "id": "f4d1778a",
   "metadata": {},
   "outputs": [],
   "source": [
    "coordinates = zip(lats, lngt)"
   ]
  },
  {
   "cell_type": "code",
   "execution_count": 7,
   "id": "b590e9cb",
   "metadata": {},
   "outputs": [],
   "source": [
    "cities = []"
   ]
  },
  {
   "cell_type": "code",
   "execution_count": 9,
   "id": "65f5b7d1",
   "metadata": {},
   "outputs": [
    {
     "data": {
      "text/plain": [
       "615"
      ]
     },
     "execution_count": 9,
     "metadata": {},
     "output_type": "execute_result"
    }
   ],
   "source": [
    "for coordinate in coordinates:\n",
    "    city = citipy.nearest_city(coordinate[0], coordinate[1]).city_name\n",
    "    if city not in cities:\n",
    "        cities.append(city)\n",
    "len(cities)"
   ]
  },
  {
   "cell_type": "code",
   "execution_count": null,
   "id": "3e3431b5",
   "metadata": {},
   "outputs": [],
   "source": []
  }
 ],
 "metadata": {
  "kernelspec": {
   "display_name": "PythonData",
   "language": "python",
   "name": "pythondata"
  },
  "language_info": {
   "codemirror_mode": {
    "name": "ipython",
    "version": 3
   },
   "file_extension": ".py",
   "mimetype": "text/x-python",
   "name": "python",
   "nbconvert_exporter": "python",
   "pygments_lexer": "ipython3",
   "version": "3.8.8"
  }
 },
 "nbformat": 4,
 "nbformat_minor": 5
}
